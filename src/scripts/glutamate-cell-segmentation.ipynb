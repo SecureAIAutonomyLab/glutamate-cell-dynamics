{
 "cells": [
  {
   "cell_type": "raw",
   "metadata": {},
   "source": [
    "#import statements\n",
    "from PIL import Image, ImageSequence\n",
    "import numpy as np\n",
    "import matplotlib.pyplot as plt\n",
    "import cv2\n",
    "import mahotas as mh\n",
    "import os, numpy, PIL\n",
    "import itertools\n",
    "from skimage import exposure\n",
    "from skimage.measure import label, regionprops, find_contours\n",
    "from skimage import morphology\n",
    "import math\n",
    "import sys\n",
    "import imutils\n",
    "from scipy import ndimage\n",
    "from skimage.morphology import watershed\n",
    "import pandas as pd\n",
    "from pandas import ExcelWriter"
   ]
  },
  {
   "cell_type": "raw",
   "metadata": {},
   "source": [
    "# helper function to display an image of size 12*10\n",
    "def display(img,cmap='gray'):\n",
    "    fig = plt.figure(figsize=(12,10))\n",
    "    ax = fig.add_subplot(111)\n",
    "    ax.imshow(img,cmap='gray')"
   ]
  },
  {
   "cell_type": "markdown",
   "metadata": {},
   "source": [
    "\n",
    "\n",
    "In each TIFF we have 2000 frames and we know alternate frames were taken from two different lens.\n",
    "\n",
    "\n",
    "Below code is to find the average of pixels of alternate frames i.e., skip one frame at a time using itertools.\n",
    "\n",
    "\n",
    "Interesting thing is average of pixels of odd frames and even frames look similar. It is conformed that they can be similar as thay are just captured with different lens.\n",
    "\n",
    "All the frames are stored in extracted_frames folder."
   ]
  },
  {
   "cell_type": "raw",
   "metadata": {},
   "source": [
    "full_tiff_image = Image.open(\"path where video.tif is located\")\n",
    "#print(full_tiff_image.n_frames)\n",
    "for each_frame_i in range(full_tiff_image.n_frames):\n",
    "\n",
    "    try:\n",
    "        full_tiff_image.seek(each_frame_i)\n",
    "        full_tiff_image.save('./test-results/extracted_frames/frame_%s.tif'%(each_frame_i,))\n",
    "    except:\n",
    "        pass"
   ]
  },
  {
   "cell_type": "raw",
   "metadata": {},
   "source": [
    "imlist = []\n",
    "for root, dirs, files in os.walk(\"./test-results/extracted_frames\"):\n",
    "    for filename in files:\n",
    "        imlist.append(filename)\n",
    "\n",
    "w,h=Image.open(os.path.join(\"./test-results/extracted_frames\", imlist[0])).size\n",
    "N=len(imlist)\n",
    "print(N)\n",
    "\n",
    "# Create a numpy array of floats to store the average (assume RGB images)\n",
    "arr=numpy.zeros((h,w,3),numpy.float)\n",
    "\n",
    "# Build up average pixel intensities, casting each image as an array of floats\n",
    "for im in list(itertools.islice(imlist, 0, 1999, 2)):\n",
    "    imarr=numpy.array(Image.open(os.path.join(\"./test-results/extracted_frames\", im)).convert('RGB'),dtype=numpy.float)\n",
    "    arr=arr+imarr/N\n",
    "\n",
    "# Round values in array and cast as 8-bit integer\n",
    "arr=numpy.array(numpy.round(arr),dtype=numpy.uint8)\n",
    "\n",
    "# Generate, save and preview final image\n",
    "average=Image.fromarray(arr,mode=\"RGB\")\n",
    "average.save(\"./test-results/Average-test.png\")"
   ]
  },
  {
   "cell_type": "raw",
   "metadata": {},
   "source": [
    "# Displaying the average of all the even number frames \n",
    "display(average)"
   ]
  },
  {
   "cell_type": "markdown",
   "metadata": {},
   "source": [
    "Performing Histogram Equalization for contrast adjustment"
   ]
  },
  {
   "cell_type": "raw",
   "metadata": {},
   "source": [
    "np.unique(average)"
   ]
  },
  {
   "cell_type": "raw",
   "metadata": {},
   "source": [
    "adjusted = cv2.imread('./test-results/Average-test.png',0) # read average.png as a gray scale image\n",
    "hist_values = cv2.calcHist([adjusted],channels=[0],mask=None,histSize=[256],ranges=[15,118])\n",
    "plt.plot(hist_values)\n",
    "equ_img = cv2.equalizeHist(adjusted)\n",
    "hist_values = cv2.calcHist([equ_img],channels=[0],mask=None,histSize=[256],ranges=[0,256])\n",
    "plt.plot(hist_values)"
   ]
  },
  {
   "cell_type": "raw",
   "metadata": {},
   "source": [
    "np.unique(equ_img)"
   ]
  },
  {
   "cell_type": "raw",
   "metadata": {},
   "source": [
    "display(equ_img)"
   ]
  },
  {
   "cell_type": "markdown",
   "metadata": {},
   "source": [
    "Perform Contrast Stretching"
   ]
  },
  {
   "cell_type": "raw",
   "metadata": {},
   "source": [
    "# percentile contrast stretching\n",
    "p2, p98 = np.percentile(adjusted, (2, 98))\n",
    "img_rescale = exposure.rescale_intensity(adjusted, in_range=(p2, p98))\n",
    "display(img_rescale)"
   ]
  },
  {
   "cell_type": "raw",
   "metadata": {},
   "source": [
    "np.unique(img_rescale)"
   ]
  },
  {
   "cell_type": "raw",
   "metadata": {},
   "source": [
    "#Performing adaptive thresholding\n",
    "thresh = cv2.adaptiveThreshold(adjusted,1,cv2.ADAPTIVE_THRESH_GAUSSIAN_C, cv2.THRESH_BINARY_INV, 11, 2)\n",
    "display(thresh)\n",
    "#median blur\n",
    "median_blur = cv2.medianBlur(thresh,3)\n",
    "display(median_blur)"
   ]
  },
  {
   "cell_type": "raw",
   "metadata": {},
   "source": [
    "# Create kernel\n",
    "\"\"\"kernel = np.array([[0, -1, 0], \n",
    "                   [-1, 5,-1], \n",
    "                   [0, -1, 0]])\"\"\"\n",
    "\n",
    "kernel = np.array([[-1/9, -1/9, -1/9], \n",
    "                   [-1/9, 2,-1/9], \n",
    "                   [-1/9, -1/9, -1/9]])\n",
    "\n",
    "# Sharpen image\n",
    "image_sharp1 = cv2.filter2D(median_blur, -2, kernel)\n",
    "display(image_sharp1)"
   ]
  },
  {
   "cell_type": "raw",
   "metadata": {},
   "source": [
    "# labeling, finding and drawing contours\n",
    "kernel = cv2.getStructuringElement(cv2.MORPH_ELLIPSE, (2, 2))\n",
    "opening = cv2.morphologyEx(image_sharp1, cv2.MORPH_OPEN, kernel, iterations = 1)\n",
    "\n",
    "labels = label(opening, connectivity=1)\n",
    "mask = morphology.remove_small_objects(labels, connectivity=1)\n",
    "display(mask)\n",
    "\n",
    "mask = mask.astype(np.uint8)\n",
    "cnts = cv2.findContours(mask, cv2.RETR_EXTERNAL, cv2.CHAIN_APPROX_SIMPLE)[-2]\n",
    "print(len(cnts))\n",
    "\n",
    "cv2.drawContours(mask, cnts, -1, 255, 2)\n",
    "display(mask)  \n",
    "\n",
    "#ret, bw_img = cv2. threshold(mask,127,255,cv2. THRESH_BINARY)\n",
    "#bw_img = bw_img.astype(np.uint8)"
   ]
  },
  {
   "cell_type": "raw",
   "metadata": {},
   "source": [
    "# numbering all 74 neurons that are detected starting with zero \n",
    "particles = [cv2.boundingRect(cnt) for cnt in cnts if cv2.contourArea(cnt) > 0]\n",
    "for i, p in enumerate(particles):\n",
    "    x = p[0]\n",
    "    y = max(0, p[1]-10)\n",
    "    cv2.putText(mask, str(i), (x, y), cv2.FONT_HERSHEY_COMPLEX, 0.5, (255, 255, 255), 2)"
   ]
  },
  {
   "cell_type": "raw",
   "metadata": {},
   "source": [
    "display(mask)"
   ]
  },
  {
   "cell_type": "raw",
   "metadata": {},
   "source": [
    "f = plt.figure(figsize=(20,15))\n",
    "f.add_subplot(1,2, 1)\n",
    "plt.imshow(img_rescale,cmap='gray')\n",
    "f.add_subplot(1,2, 2)\n",
    "plt.imshow(mask,cmap='gray')\n",
    "plt.show(block=True)"
   ]
  },
  {
   "cell_type": "raw",
   "metadata": {},
   "source": [
    "# creating mask for each detected neuron and saving all 74 masks in contour_masks folder\n",
    "kernel = cv2.getStructuringElement(cv2.MORPH_ELLIPSE, (2, 2))\n",
    "opening = cv2.morphologyEx(image_sharp1, cv2.MORPH_OPEN, kernel, iterations = 1)\n",
    "labels1 = label(opening, connectivity=1)\n",
    "mask1 = morphology.remove_small_objects(labels1, connectivity=1)\n",
    "#display(mask1)\n",
    "\n",
    "mask1 = mask1.astype(np.uint8)\n",
    "cnts1 = cv2.findContours(mask1, cv2.RETR_EXTERNAL, cv2.CHAIN_APPROX_SIMPLE)[-2]\n",
    "print(len(cnts1))\n",
    "\n",
    "for k, contours1 in enumerate(cnts1) :\n",
    "    mask2 = np.zeros_like(image_sharp1)\n",
    "    cv2.drawContours(mask2, cnts1, k, 255, cv2.FILLED)\n",
    "    cv2.imwrite(\"./test-results/contour_masks/contour_{0}.jpg\".format(k),mask2)"
   ]
  },
  {
   "cell_type": "raw",
   "metadata": {},
   "source": [
    "# calculating average of pixel values of each neuron across each frame. The below is a dataframe where rows are nuerons and columns are frames\n",
    "framespath = \"./test-results/extracted_frames/\"\n",
    "maskPath = \"./test-results/contour_masks/\"\n",
    "\n",
    "df = pd.DataFrame()\n",
    "\n",
    "for mask_path in os.listdir(maskPath):\n",
    "    input_mask_path = os.path.join(maskPath, mask_path)\n",
    "    \n",
    "    if input_mask_path.endswith(\".jpg\"):\n",
    "        # Open the mask image as numpy array\n",
    "        npMask = np.array(Image.open(input_mask_path))\n",
    "        npMask = npMask.astype(np.uint8)\n",
    "\n",
    "        output = []\n",
    "\n",
    "        for i, frame_path in enumerate(os.listdir(framespath)):\n",
    "            input_frame_path = os.path.join(framespath, frame_path)\n",
    "\n",
    "            if input_frame_path.endswith(\".tif\"):\n",
    "                npImage = np.array(Image.open(input_frame_path))\n",
    "                npImage = npImage.astype(np.uint8)\n",
    "\n",
    "                replacedImage = cv2.bitwise_and(npImage,npImage,mask = npMask)\n",
    "                unique_pixels = np.unique(replacedImage).tolist()\n",
    "                pixels_avg = sum(unique_pixels)/len(unique_pixels)\n",
    "                output.append(pixels_avg)\n",
    "\n",
    "        series = pd.Series(output)\n",
    "        df = df.append(series,ignore_index=True)"
   ]
  },
  {
   "cell_type": "raw",
   "metadata": {},
   "source": [
    "df.head()"
   ]
  },
  {
   "cell_type": "raw",
   "metadata": {},
   "source": [
    "df_copy = df.copy()"
   ]
  },
  {
   "cell_type": "raw",
   "metadata": {},
   "source": [
    "# As we need only even number of frames starting zero, we are dropping the odd number frames and renaming the column names from 1 to 1000\n",
    "# alternate frames in a video are captured with different lens. we are focusing on the frames taken from single lens either of which is better i.e., even number frames \n",
    "df_copy.drop(df_copy.columns[range(1, 2000, 2)], axis = 1, inplace = True)\n",
    "df_copy.columns = range(1, 1001, 1)\n",
    "df_copy.head()"
   ]
  },
  {
   "cell_type": "raw",
   "metadata": {},
   "source": [
    "# calculating deltaF/F0 values \n",
    "first_col = df_copy.iloc[:,0]\n",
    "df_copy = df_copy.sub(df_copy[1], axis=0)\n",
    "df_copy = df_copy.div(first_col, axis=0)\n",
    "df_copy.head()"
   ]
  },
  {
   "cell_type": "raw",
   "metadata": {},
   "source": [
    "# Exporting Pandas Dataframe tO Excel\n",
    "writer = ExcelWriter('./test-results/deltaFbyF_values_test.xlsx')\n",
    "df_copy.to_excel(writer)\n",
    "writer.save()"
   ]
  },
  {
   "cell_type": "raw",
   "metadata": {},
   "source": [
    "#change value of y=0.02 to set the threshold accordingly\n",
    "#change the number in the line ** neuron1 = df_copy.iloc[1] ** to select neuron for which you wanna draw graph.\n",
    "#Number can be from 0 to 73 as we have detected 74 neurons. Here the graph is for neuron numbered one.\n",
    "neuron1 = df_copy.iloc[30]\n",
    "ax = neuron1.plot(kind='line', figsize=(10,4))\n",
    "ax.axhline(y=0.02, xmin=-1, xmax=1, color='r', linestyle='--', lw=2)"
   ]
  },
  {
   "cell_type": "raw",
   "metadata": {},
   "source": [
    "# save the pandas plot to a .jpg image\n",
    "fig = ax.get_figure()\n",
    "fig.savefig(\"./test-results/graph_threshold_test.jpg\")"
   ]
  },
  {
   "cell_type": "raw",
   "metadata": {},
   "source": [
    "#change value of 0.02 to yield the frame numbers of a neuron that has value greater than the threshold set ( here for sample, I set it as 0.02)\n",
    "df2 = df_copy[df_copy > 0.02]\n",
    "df2.fillna(0, inplace=True)\n",
    "df2 = df2.apply(lambda x: x.index[x.astype(bool)].tolist(), 1)\n",
    "#df2.head()"
   ]
  },
  {
   "cell_type": "raw",
   "metadata": {},
   "source": [
    "writer = ExcelWriter('./test-results/frame_nums_gt_thresh_test.xlsx')\n",
    "df2.to_excel(writer)\n",
    "writer.save()"
   ]
  }
 ],
 "metadata": {
  "kernelspec": {
   "display_name": "Python 3",
   "language": "python",
   "name": "python3"
  },
  "language_info": {
   "codemirror_mode": {
    "name": "ipython",
    "version": 3
   },
   "file_extension": ".py",
   "mimetype": "text/x-python",
   "name": "python",
   "nbconvert_exporter": "python",
   "pygments_lexer": "ipython3",
   "version": "3.6.9"
  }
 },
 "nbformat": 4,
 "nbformat_minor": 4
}
